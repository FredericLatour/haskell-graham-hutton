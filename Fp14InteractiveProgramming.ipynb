{
 "cells": [
  {
   "cell_type": "markdown",
   "metadata": {},
   "source": [
    "## Chapter 10 - Interactive Programming\n",
    "\n",
    "[video Youtube](https://www.youtube.com/watch?v=wPbO-uP6adM)"
   ]
  },
  {
   "cell_type": "markdown",
   "metadata": {},
   "source": [
    "### Introduction\n",
    "\n",
    "To date we have seen how Haskell can be used to write batch programs that take all their inputs at the start and give all their outputs at the end.\n",
    "\n",
    "```\n",
    "inputs ==> [batch program] ==> outputs\n",
    "```\n",
    "\n",
    "A compiler in an example of batch program.\n",
    "\n",
    "However, we would also like to use Haskell to write **interactive** programs that read from the keyboard and write to the screen, as they are running."
   ]
  },
  {
   "cell_type": "markdown",
   "metadata": {},
   "source": [
    "### The Problem\n",
    "\n",
    "Haskell programs are pure mathematical functions:\n",
    "* Haskell programs **have nos side effects**.\n",
    "\n",
    "However, reading from the keyboard and writing to the screen are side effects:\n",
    "* Interactive programs **have side effects**."
   ]
  },
  {
   "cell_type": "markdown",
   "metadata": {},
   "source": [
    "### The Solution\n",
    "\n",
    "Interactive programs can be written in Haskell by using types to distinguish pure expressions from impure **actions** that may involve side effects.\n",
    "\n",
    "```haskell\n",
    "IO a    -- The type of actions that return a value of type a.\n",
    "```\n",
    "\n",
    "For example: \n",
    "\n",
    "```haskell\n",
    "IO Char    -- The type of actions that return a character.\n",
    "```\n",
    "\n",
    "```haskell\n",
    "IO ()    -- The type of purely side effecting actions that return no result value.\n",
    "```\n",
    "\n",
    ">Note: () is the type of tuples with no components.\n"
   ]
  },
  {
   "cell_type": "markdown",
   "metadata": {},
   "source": [
    "### Basic Actions\n",
    "The standard library provides a number of actions, including the following three primitives:\n",
    "\n",
    "* The action `getChar` reads a character from the keyboard, echoes it to the screen, and returns the character as its result value:\n",
    "\n",
    "```haskell\n",
    "getChar :: IO Char\n",
    "```\n",
    "\n",
    "* The action `putChar c` writes the character `c` to the scren, and returns no result value:\n",
    "\n",
    "```haskell\n",
    "putChar :: Char -> IO ()\n",
    "```\n",
    "\n",
    "* The action `return v` simply returns the value `v`, without performing any interactions:\n",
    "\n",
    "```haskell\n",
    "return :: a -> IO a\n",
    "```\n",
    ">This function is a kind of bridge from the pure world to impure world. There is no bridge back (knd of)\n",
    "\n"
   ]
  },
  {
   "cell_type": "markdown",
   "metadata": {},
   "source": []
  },
  {
   "cell_type": "markdown",
   "metadata": {},
   "source": [
    "### Sequencing\n",
    "\n",
    "A sequence of actions can be combined as a single composite action using the keyword `do`.\n",
    "For example:"
   ]
  },
  {
   "cell_type": "code",
   "execution_count": 5,
   "metadata": {},
   "outputs": [
    {
     "data": {
      "text/plain": [
       "('z','z')"
      ]
     },
     "metadata": {},
     "output_type": "display_data"
    }
   ],
   "source": [
    "act :: IO (Char, Char)\n",
    "act = do\n",
    "  x <- getChar\n",
    "  getChar\n",
    "  y <- getChar\n",
    "  return (x,y)\n",
    "act"
   ]
  },
  {
   "cell_type": "markdown",
   "metadata": {},
   "source": [
    "### Derived Primitives\n",
    "\n",
    "\n",
    ">Reading a string from the keyboard:\n",
    "\n",
    "```haskell\n",
    "getLine :: IO String\n",
    "getLine = do \n",
    "    x <- getChar\n",
    "    if x == '\\n' then\n",
    "      return []\n",
    "    else\n",
    "      do xs <- getLine\n",
    "          return (x:xs)\n",
    "\n",
    "```\n",
    "\n",
    ">Writing a string to the screen:\n",
    "\n",
    "```haskell\n",
    "putStr :: String -> IO ()\n",
    "putStr [] = return ()\n",
    "putStr (x:xs) = do putChar x\n",
    "                   putStr xs\n",
    "```\n",
    "\n",
    ">Writing a string and moving to a new line:\n",
    "\n",
    "```haskell\n",
    "putStrLn :: String -> IO ()\n",
    "putStrLn xs = do putStr xs\n",
    "                 putChar '\\n'\n",
    "```\n"
   ]
  },
  {
   "cell_type": "markdown",
   "metadata": {},
   "source": [
    "### Example\n",
    "\n",
    "We can now define an action that propts for a string to be entered and displays its length\n",
    "\n",
    "```haskell\n",
    "strlen :: IO ()\n",
    "strlen = do putStr \"Enter a string: \"\n",
    "            xs <- getLine'\n",
    "            putStr \"The string has \"\n",
    "            putStr (show (length xs))\n",
    "            putStrLn' \" characters\"\n",
    "\n",
    "```\n",
    "\n",
    ">**Note:** Evaluating an action executes its side effects, with the final result value being discarded."
   ]
  },
  {
   "cell_type": "markdown",
   "metadata": {},
   "source": [
    "### Hangman\n",
    "\n",
    "Consider the following version of hangman (le jeu du pendu):\n",
    "\n",
    "* One player secretly types in a word\n",
    "* The other player tries to deduce the word, by entering a sequence of guesses.\n",
    "* For each guess, the computer indicates which letters in the secret word occur in the guess\n",
    "* The game ends when the guess is correct.\n",
    "\n",
    "We adopt a **top down** approach to implementing hangman in Haskell, starting as follow:\n",
    "\n",
    "```haskell\n",
    "hangman :: IO ()\n",
    "hangman = do  putStrLn \"Think of a word: \"\n",
    "              word <- sgetLine -- secret getLine\n",
    "              putStrLn \"Try to guess it:\"\n",
    "              play word\n",
    "```\n",
    "\n",
    "\n",
    "The action `sgetLine` reads a line of text from the keyboard, echoing each character as a dash:\n",
    "\n",
    "```haskell\n",
    "sgetLine :: IO String\n",
    "sgetLine = do x <- getCh\n",
    "              if x == '\\n' then\n",
    "                do  putChar x\n",
    "                    return []\n",
    "              else\n",
    "                do  putChar '-'\n",
    "                    xs <- sgetLine\n",
    "                    return (x:xs)\n",
    "```\n",
    "\n",
    "\n",
    "The action `getCh` reads a single character from the keyboard, without echoing it to the screen:\n",
    "\n",
    "```haskell\n",
    "getCh :: IO Char\n",
    "getCh = do  hSetEcho stdin False\n",
    "            x <- getChar\n",
    "            hSetEcho stdin True\n",
    "            return x\n",
    "```\n",
    "\n",
    "\n",
    "The function `play` is the main loop, which requests and processes guesses until the game ends.\n",
    "\n",
    "```haskell\n",
    "play :: String -> IO ()\n",
    "play word = do\n",
    "  putStr \"? \"\n",
    "  guess <- getLine\n",
    "  if guess == word then \n",
    "    putStrLn \"You got it\"\n",
    "  else\n",
    "    do  putStrLn (match word guess)\n",
    "        play word\n",
    "\n",
    "```"
   ]
  },
  {
   "cell_type": "markdown",
   "metadata": {},
   "source": [
    "\n",
    "The function `match` indicate which characters in one string occur in a second string. For example:\n",
    "```bash\n",
    "> match \"haskell\" \"pascal\"\n",
    "\"-as--ll\n",
    "```\n",
    "\n",
    "```haskell\n",
    "match :: String -> String -> String\n",
    "match word guess = [if elem x guess then x else '-' | x <- word]\n",
    "```\n",
    "\n",
    "```haskell\n",
    "```\n"
   ]
  },
  {
   "cell_type": "markdown",
   "metadata": {},
   "source": [
    "### Exercice\n",
    "\n",
    "Implement the game of **nim** in Haskell, where the rules of the game are as follows:\n",
    "\n",
    "* The board comprises five rows of star\n",
    "\n",
    "```\n",
    "1: * * * * *\n",
    "2: * * * * \n",
    "3: * * * \n",
    "4: * * \n",
    "5: * \n",
    "```\n",
    "\n",
    "* Two players take it turn about to remove one or more stars from the end of a single row.\n",
    "* The winner is the player who removes the last star or stars from the board\n",
    "\n",
    ">Hint:\n",
    "Represent the board as a list of five integers that give the number of stars remaining on each row.\n",
    "For example the initial board is [5,4,3,2,1]\n"
   ]
  },
  {
   "cell_type": "code",
   "execution_count": 1,
   "metadata": {},
   "outputs": [
    {
     "data": {
      "text/plain": [
       "[1,2,3,9,5,6,7,8,9]"
      ]
     },
     "metadata": {},
     "output_type": "display_data"
    },
    {
     "data": {
      "text/plain": [
       "[1,2,3,2,5,6,7,8,9]"
      ]
     },
     "metadata": {},
     "output_type": "display_data"
    },
    {
     "data": {
      "text/plain": [
       "1"
      ]
     },
     "metadata": {},
     "output_type": "display_data"
    },
    {
     "data": {
      "text/plain": [
       "0"
      ]
     },
     "metadata": {},
     "output_type": "display_data"
    }
   ],
   "source": [
    "replaceElem :: Int -> a -> [a] -> [a]\n",
    "replaceElem i elem xs = x1 ++ [elem] ++ tail x2\n",
    "  where (x1, x2) = splitAt i xs\n",
    "\n",
    "newBoard :: Int -> Int -> [Int] -> [Int]\n",
    "newBoard l n board = replaceElem l new board\n",
    "  where new = (board !! l) - n\n",
    "\n",
    "nextPlayer :: Int -> Int\n",
    "nextPlayer n = (n+1) `mod` 2\n",
    "\n",
    "replaceElem 3 9 [1,2,3,4,5,6,7,8,9]\n",
    "\n",
    "newBoard 3 2 [1,2,3,4,5,6,7,8,9]\n",
    "\n",
    "nextPlayer 0\n",
    "nextPlayer 1"
   ]
  },
  {
   "cell_type": "code",
   "execution_count": 2,
   "metadata": {},
   "outputs": [
    {
     "data": {
      "text/plain": [
       "5"
      ]
     },
     "metadata": {},
     "output_type": "display_data"
    }
   ],
   "source": [
    "read \"5\":: Int"
   ]
  }
 ],
 "metadata": {
  "kernelspec": {
   "display_name": "Haskell",
   "language": "haskell",
   "name": "haskell"
  },
  "language_info": {
   "codemirror_mode": "ihaskell",
   "file_extension": ".hs",
   "mimetype": "text/x-haskell",
   "name": "haskell",
   "pygments_lexer": "Haskell",
   "version": "9.4.5"
  },
  "orig_nbformat": 4
 },
 "nbformat": 4,
 "nbformat_minor": 2
}
