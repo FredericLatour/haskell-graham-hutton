{
 "cells": [
  {
   "cell_type": "code",
   "execution_count": 1,
   "metadata": {},
   "outputs": [],
   "source": [
    "import Data.List"
   ]
  },
  {
   "cell_type": "markdown",
   "metadata": {},
   "source": [
    "## FP 13 - Chapter 9 - The Countdown Problem - \n",
    ">[YouTube Video](https://www.youtube.com/watch?v=CiXDS3bBBUo)"
   ]
  },
  {
   "cell_type": "markdown",
   "metadata": {},
   "source": [
    "### What is Countdown ?\n",
    "\n",
    "* A popular quiz programme on British television that has been running since 1983.\n",
    "* Base upon an original French version called \"Des Chiffres et Des Lettres\"\n",
    "* Includes a numbers game that we shall refer to as the countdown problem\n",
    "\n",
    "#### Example\n",
    "Using the numbers:  \n",
    "\n",
    "   `1 3 7 10 25 50`\n",
    "\n",
    "and the arithmetic operators:  \n",
    "\n",
    "   `+ - * /`\n",
    "   \n",
    "construct an expression whose value is `765`\n",
    "\n",
    ">My own take\n",
    "* (50+1) * (25-10)\n",
    "* (50+25+10) * (7+3-1)\n"
   ]
  },
  {
   "cell_type": "markdown",
   "metadata": {},
   "source": [
    "### Rules\n",
    "\n",
    "* All the numbers, including intermediate results, must be positive naturals (1,2,3,...)\n",
    "* Each of the source numbers can be used at most once when constructing the expession.\n",
    "* We abstract from other rules that are adopted on television for pragmatic reasons (limited time, etc...)\n",
    "\n",
    "\n",
    "### Solutions\n",
    "\n",
    "* There are 780 solutions for this example.\n",
    "* Changing the target number to `831` gives an example that has no solutions.\n"
   ]
  }
 ],
 "metadata": {
  "kernelspec": {
   "display_name": "Haskell",
   "language": "haskell",
   "name": "haskell"
  },
  "language_info": {
   "codemirror_mode": "ihaskell",
   "file_extension": ".hs",
   "mimetype": "text/x-haskell",
   "name": "haskell",
   "pygments_lexer": "Haskell",
   "version": "8.10.7"
  },
  "orig_nbformat": 4,
  "vscode": {
   "interpreter": {
    "hash": "31f2aee4e71d21fbe5cf8b01ff0e069b9275f58929596ceb00d14d90e3e16cd6"
   }
  }
 },
 "nbformat": 4,
 "nbformat_minor": 2
}
