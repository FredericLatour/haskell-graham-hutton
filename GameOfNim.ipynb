{
 "cells": [
  {
   "cell_type": "code",
   "execution_count": 11,
   "metadata": {},
   "outputs": [],
   "source": [
    "play :: [Int] -> Int -> IO ()\n",
    "play board player = do\n",
    "  displayBoard board\n",
    "  (l,n) <- getRownAndCount board player\n",
    "  if sum board - n == 0 then\n",
    "    do putStr \"Player \"\n",
    "       putStr (show (player+1))\n",
    "       putStrLn \" won\"\n",
    "  else\n",
    "    play (newBoard l n board) (nextPlayer player)\n",
    "\n",
    "getRownAndCount :: [Int] -> Int -> IO (Int, Int)\n",
    "getRownAndCount board player = do\n",
    "  putStrLn $ \"Player \" ++ show (player+1)\n",
    "  putStrLn \"========\"\n",
    "  x <- getRow board\n",
    "  y <- getCount board x\n",
    "  putStr \"\\n\"\n",
    "  return (x,y)\n",
    "\n",
    "getRow :: [Int] -> IO Int\n",
    "getRow board = do\n",
    "  putStr \"Select the desired row: \"\n",
    "  row <- getLine\n",
    "  let n = read row :: Int in\n",
    "    if  n > 4 || n < 0 || (board !! n == 0) then\n",
    "      do\n",
    "        putStr \"Invalide row - \"\n",
    "        getRow board\n",
    "    else\n",
    "      return n\n",
    "\n",
    "\n",
    "getCount :: [Int] -> Int -> IO Int\n",
    "getCount board row = do\n",
    "  putStr \"How many stars?: \"\n",
    "  count <- getLine\n",
    "  let n = read count :: Int in\n",
    "    if n > board !! row then\n",
    "      do\n",
    "        putStr \"Invalide count - \"\n",
    "        getCount board row\n",
    "    else\n",
    "      return n\n",
    "\n",
    "\n",
    "displayBoard :: [Int] -> IO ()\n",
    "displayBoard xs = go 0 xs\n",
    "  where go :: Int -> [Int] -> IO ()\n",
    "        go _ [] = do putStr \"\\n\"\n",
    "        go n (x:xs) = do\n",
    "          putStr $ show n ++ \": \"\n",
    "          putStrLn (replicate x '*')\n",
    "          go (n+1) xs\n",
    "  \n",
    "\n",
    "nextPlayer :: Int -> Int\n",
    "nextPlayer n = (n+1) `mod` 2\n",
    "  \n",
    "newBoard :: Int -> Int -> [Int] -> [Int]\n",
    "newBoard l n board = replaceElem l new board\n",
    "  where new = (board !! l) - n\n",
    "\n",
    "\n",
    "replaceElem :: Int -> a -> [a] -> [a]\n",
    "replaceElem i elem xs = x1 ++ [elem] ++ tail x2\n",
    "  where (x1, x2) = splitAt i xs\n"
   ]
  },
  {
   "cell_type": "code",
   "execution_count": 12,
   "metadata": {},
   "outputs": [
    {
     "ename": "",
     "evalue": "",
     "output_type": "error",
     "traceback": [
      "Prelude.read: no parse"
     ]
    }
   ],
   "source": [
    "nim :: IO ()\n",
    "nim = do\n",
    "  play [5,4,3,2,1] 2\n",
    "nim"
   ]
  },
  {
   "cell_type": "code",
   "execution_count": 10,
   "metadata": {},
   "outputs": [],
   "source": [
    "test = do\n",
    "  x <- getLine\n",
    "  let y = read x :: Int in\n",
    "    if y > 4 then\n",
    "      do test\n",
    "    else\n",
    "      return (x, y)\n",
    "    "
   ]
  },
  {
   "cell_type": "code",
   "execution_count": null,
   "metadata": {},
   "outputs": [],
   "source": []
  }
 ],
 "metadata": {
  "kernelspec": {
   "display_name": "Haskell",
   "language": "haskell",
   "name": "haskell"
  },
  "language_info": {
   "codemirror_mode": "ihaskell",
   "file_extension": ".hs",
   "mimetype": "text/x-haskell",
   "name": "haskell",
   "pygments_lexer": "Haskell",
   "version": "9.4.5"
  },
  "orig_nbformat": 4
 },
 "nbformat": 4,
 "nbformat_minor": 2
}
